{
 "cells": [
  {
   "cell_type": "code",
   "execution_count": 1,
   "id": "03190261",
   "metadata": {},
   "outputs": [],
   "source": [
    "#test\n",
    "import warnings\n",
    "warnings.filterwarnings('ignore')"
   ]
  },
  {
   "cell_type": "code",
   "execution_count": null,
   "id": "320a1cc5",
   "metadata": {},
   "outputs": [],
   "source": []
  },
  {
   "cell_type": "code",
   "execution_count": 2,
   "id": "9928371d",
   "metadata": {},
   "outputs": [
    {
     "name": "stdout",
     "output_type": "stream",
     "text": [
      "Traceback (most recent call last):\r\n",
      "  File \"/Users/yuanjiaxin/Downloads/sp_git/preprocessing.py\", line 136, in <module>\r\n",
      "    feat_engineering(sys.argv[1])\r\n",
      "  File \"/Users/yuanjiaxin/Downloads/sp_git/preprocessing.py\", line 124, in feat_engineering\r\n",
      "    data = gen_feat(path, hop_length, sr)\r\n",
      "  File \"/Users/yuanjiaxin/Downloads/sp_git/preprocessing.py\", line 75, in gen_feat\r\n",
      "    datanames = read_path(current_path)\r\n",
      "  File \"/Users/yuanjiaxin/Downloads/sp_git/preprocessing.py\", line 41, in read_path\r\n",
      "    return os.listdir(path)\r\n",
      "NotADirectoryError: [Errno 20] Not a directory: 'VoxCeleb_gender/.DS_Store'\r\n"
     ]
    }
   ],
   "source": [
    "!python preprocessing.py \"VoxCeleb_gender\""
   ]
  }
 ],
 "metadata": {
  "kernelspec": {
   "display_name": "Python 3 (ipykernel)",
   "language": "python",
   "name": "python3"
  },
  "language_info": {
   "codemirror_mode": {
    "name": "ipython",
    "version": 3
   },
   "file_extension": ".py",
   "mimetype": "text/x-python",
   "name": "python",
   "nbconvert_exporter": "python",
   "pygments_lexer": "ipython3",
   "version": "3.9.13"
  }
 },
 "nbformat": 4,
 "nbformat_minor": 5
}
